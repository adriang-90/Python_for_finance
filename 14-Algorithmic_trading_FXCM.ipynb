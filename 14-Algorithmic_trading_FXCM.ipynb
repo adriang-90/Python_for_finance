{
 "cells": [
  {
   "cell_type": "markdown",
   "metadata": {},
   "source": [
    "### FXCM API\n",
    "* https://fxcm.github.io/rest-api-docs"
   ]
  },
  {
   "cell_type": "code",
   "execution_count": null,
   "metadata": {},
   "outputs": [],
   "source": [
    "import fxcmpy\n",
    "fxcmpy.__version__"
   ]
  },
  {
   "cell_type": "code",
   "execution_count": null,
   "metadata": {},
   "outputs": [],
   "source": [
    "api = fxcmpy.fxcmpy(config_file='/home/babel/Python/fxcm.cfg', server='real')"
   ]
  },
  {
   "cell_type": "markdown",
   "metadata": {},
   "source": [
    "## Retrieving Tick Data"
   ]
  },
  {
   "cell_type": "code",
   "execution_count": null,
   "metadata": {},
   "outputs": [],
   "source": [
    "import time\n",
    "import numpy as np\n",
    "import pandas as pd\n",
    "import datetime as dt\n",
    "from pylab import mpl, plt"
   ]
  },
  {
   "cell_type": "code",
   "execution_count": null,
   "metadata": {},
   "outputs": [],
   "source": [
    "plt.style.use('seaborn')"
   ]
  },
  {
   "cell_type": "code",
   "execution_count": null,
   "metadata": {},
   "outputs": [],
   "source": [
    "mpl.rcParams['font.family'] = 'serif'\n",
    "%matplotlib inline"
   ]
  },
  {
   "cell_type": "code",
   "execution_count": null,
   "metadata": {},
   "outputs": [],
   "source": [
    "#all available currency pairs\n",
    "\n",
    "from fxcmpy import fxcmpy_tick_data_reader as tdr"
   ]
  },
  {
   "cell_type": "code",
   "execution_count": null,
   "metadata": {},
   "outputs": [],
   "source": [
    "print(tdr.get_available_symbols())"
   ]
  },
  {
   "cell_type": "code",
   "execution_count": null,
   "metadata": {},
   "outputs": [],
   "source": [
    "#following code retrieves one weeks worth of tick data for EURUSD\n",
    "\n",
    "start = dt.datetime(2020, 3, 30)  \n",
    "stop = dt.datetime(2020, 4, 3)    "
   ]
  },
  {
   "cell_type": "code",
   "execution_count": null,
   "metadata": {},
   "outputs": [],
   "source": [
    "td = tdr('EURUSD', start, stop)   #retrieves data file, unpacks it and stores the raw data in DF"
   ]
  },
  {
   "cell_type": "code",
   "execution_count": null,
   "metadata": {},
   "outputs": [],
   "source": [
    "td.get_raw_data().info()    #return DF object with raw data (index values are str objects)"
   ]
  },
  {
   "cell_type": "code",
   "execution_count": null,
   "metadata": {},
   "outputs": [],
   "source": [
    "td.get_data().info()    #return DF object for which the index has been transformed to a DatetimeIndex"
   ]
  },
  {
   "cell_type": "code",
   "execution_count": null,
   "metadata": {},
   "outputs": [],
   "source": [
    "td.get_data().head()"
   ]
  },
  {
   "cell_type": "code",
   "execution_count": null,
   "metadata": {},
   "outputs": [],
   "source": [
    "sub = td.get_data(start='2020-04-03 12:00:00', end='2020-04-03 12:15:00')  #picks a subset of data set"
   ]
  },
  {
   "cell_type": "code",
   "execution_count": null,
   "metadata": {},
   "outputs": [],
   "source": [
    "sub.head()"
   ]
  },
  {
   "cell_type": "code",
   "execution_count": null,
   "metadata": {},
   "outputs": [],
   "source": [
    "sub['Mid'] = sub.mean(axis=1)  #calculate the mid prices from the bid and ask prices"
   ]
  },
  {
   "cell_type": "code",
   "execution_count": null,
   "metadata": {},
   "outputs": [],
   "source": [
    "sub['SMA'] = sub['Mid'].rolling(1000).mean()  #derives SMA values over intervals of 10000 ticks"
   ]
  },
  {
   "cell_type": "code",
   "execution_count": null,
   "metadata": {},
   "outputs": [],
   "source": [
    "sub[['Mid', 'SMA']].plot(figsize=(15,10), lw=0.75);\n",
    "plt.title('Historical mid tick prices for EURUSD and SMA',loc='center');"
   ]
  },
  {
   "cell_type": "markdown",
   "metadata": {},
   "source": [
    "## Retrieving Candles Data"
   ]
  },
  {
   "cell_type": "code",
   "execution_count": null,
   "metadata": {},
   "outputs": [],
   "source": [
    "#available symbols for which candles data is provided:\n",
    "\n",
    "from fxcmpy import fxcmpy_candles_data_reader as cdr"
   ]
  },
  {
   "cell_type": "code",
   "execution_count": null,
   "metadata": {},
   "outputs": [],
   "source": [
    "print(cdr.get_available_symbols())"
   ]
  },
  {
   "cell_type": "code",
   "execution_count": null,
   "metadata": {},
   "outputs": [],
   "source": [
    "start = dt.datetime(2020, 3, 30)  \n",
    "stop = dt.datetime(2020, 4, 3)    "
   ]
  },
  {
   "cell_type": "code",
   "execution_count": null,
   "metadata": {},
   "outputs": [],
   "source": [
    "period = 'H1'"
   ]
  },
  {
   "cell_type": "code",
   "execution_count": null,
   "metadata": {},
   "outputs": [],
   "source": [
    "candles = cdr('EURUSD', start, stop, period)"
   ]
  },
  {
   "cell_type": "code",
   "execution_count": null,
   "metadata": {},
   "outputs": [],
   "source": [
    "data = candles.get_data()"
   ]
  },
  {
   "cell_type": "code",
   "execution_count": null,
   "metadata": {},
   "outputs": [],
   "source": [
    "data.info()"
   ]
  },
  {
   "cell_type": "code",
   "execution_count": null,
   "metadata": {},
   "outputs": [],
   "source": [
    "data[data.columns[:4]].tail()"
   ]
  },
  {
   "cell_type": "code",
   "execution_count": null,
   "metadata": {},
   "outputs": [],
   "source": [
    "data[data.columns[4:]].tail()"
   ]
  },
  {
   "cell_type": "code",
   "execution_count": null,
   "metadata": {},
   "outputs": [],
   "source": [
    "data['MidClose'] = data[['BidClose', 'AskClose']].mean(axis=1) #calculate the mid close prices from bid and ask"
   ]
  },
  {
   "cell_type": "code",
   "execution_count": null,
   "metadata": {},
   "outputs": [],
   "source": [
    "data['SMA10'] = data['MidClose'].rolling(10).mean()   #calculate two SMAs\n",
    "data['SMA50'] = data['MidClose'].rolling(50).mean()   "
   ]
  },
  {
   "cell_type": "code",
   "execution_count": null,
   "metadata": {},
   "outputs": [],
   "source": [
    "data[['MidClose', 'SMA10', 'SMA50']].plot(figsize=(15,10));"
   ]
  },
  {
   "cell_type": "markdown",
   "metadata": {},
   "source": [
    "## Working with the API"
   ]
  },
  {
   "cell_type": "code",
   "execution_count": null,
   "metadata": {},
   "outputs": [],
   "source": [
    "instruments = api.get_instruments()\n",
    "instruments"
   ]
  },
  {
   "cell_type": "code",
   "execution_count": null,
   "metadata": {},
   "outputs": [],
   "source": [
    "print(instruments)"
   ]
  },
  {
   "cell_type": "code",
   "execution_count": null,
   "metadata": {},
   "outputs": [],
   "source": [
    "#retrieves the most recent m1 bar prices for EURUSD\n",
    "\n",
    "candles = api.get_candles('EUR/USD', period='m1', number=250)"
   ]
  },
  {
   "cell_type": "code",
   "execution_count": null,
   "metadata": {},
   "outputs": [],
   "source": [
    "candles['askclose'].plot(figsize=(15,10));"
   ]
  },
  {
   "cell_type": "code",
   "execution_count": 60,
   "metadata": {},
   "outputs": [
    {
     "name": "stderr",
     "output_type": "stream",
     "text": [
      "Exception in thread Thread-257:\n",
      "Traceback (most recent call last):\n",
      "  File \"/home/babel/anaconda3/lib/python3.7/threading.py\", line 926, in _bootstrap_inner\n",
      "    self.run()\n",
      "  File \"/home/babel/anaconda3/lib/python3.7/threading.py\", line 870, in run\n",
      "    self._target(*self._args, **self._kwargs)\n",
      "  File \"/home/babel/anaconda3/lib/python3.7/site-packages/socketio/client.py\", line 613, in _handle_eio_message\n",
      "    self._handle_event(pkt.namespace, pkt.id, pkt.data)\n",
      "  File \"/home/babel/anaconda3/lib/python3.7/site-packages/socketio/client.py\", line 497, in _handle_event\n",
      "    r = self._trigger_event(data[0], namespace, *data[1:])\n",
      "  File \"/home/babel/anaconda3/lib/python3.7/site-packages/socketio/client.py\", line 547, in _trigger_event\n",
      "    return self.handlers[namespace][event](*args)\n",
      "  File \"/home/babel/anaconda3/lib/python3.7/site-packages/fxcmpy/fxcmpy.py\", line 2555, in __on_price_update__\n",
      "    callbacks[func](data, self.prices[symbol])\n",
      "  File \"<ipython-input-57-9f2ea732995d>\", line 5, in output\n",
      "    pd.to_datetime(int(data['Updated'], units='ms'),\n",
      "TypeError: 'units' is an invalid keyword argument for int()\n",
      "\n",
      "Exception in thread Thread-258:\n",
      "Traceback (most recent call last):\n",
      "  File \"/home/babel/anaconda3/lib/python3.7/threading.py\", line 926, in _bootstrap_inner\n",
      "    self.run()\n",
      "  File \"/home/babel/anaconda3/lib/python3.7/threading.py\", line 870, in run\n",
      "    self._target(*self._args, **self._kwargs)\n",
      "  File \"/home/babel/anaconda3/lib/python3.7/site-packages/socketio/client.py\", line 613, in _handle_eio_message\n",
      "    self._handle_event(pkt.namespace, pkt.id, pkt.data)\n",
      "  File \"/home/babel/anaconda3/lib/python3.7/site-packages/socketio/client.py\", line 497, in _handle_event\n",
      "    r = self._trigger_event(data[0], namespace, *data[1:])\n",
      "  File \"/home/babel/anaconda3/lib/python3.7/site-packages/socketio/client.py\", line 547, in _trigger_event\n",
      "    return self.handlers[namespace][event](*args)\n",
      "  File \"/home/babel/anaconda3/lib/python3.7/site-packages/fxcmpy/fxcmpy.py\", line 2555, in __on_price_update__\n",
      "    callbacks[func](data, self.prices[symbol])\n",
      "  File \"<ipython-input-57-9f2ea732995d>\", line 5, in output\n",
      "    pd.to_datetime(int(data['Updated'], units='ms'),\n",
      "TypeError: 'units' is an invalid keyword argument for int()\n",
      "\n",
      "Exception in thread Thread-259:\n",
      "Traceback (most recent call last):\n",
      "  File \"/home/babel/anaconda3/lib/python3.7/threading.py\", line 926, in _bootstrap_inner\n",
      "    self.run()\n",
      "  File \"/home/babel/anaconda3/lib/python3.7/threading.py\", line 870, in run\n",
      "    self._target(*self._args, **self._kwargs)\n",
      "  File \"/home/babel/anaconda3/lib/python3.7/site-packages/socketio/client.py\", line 613, in _handle_eio_message\n",
      "    self._handle_event(pkt.namespace, pkt.id, pkt.data)\n",
      "  File \"/home/babel/anaconda3/lib/python3.7/site-packages/socketio/client.py\", line 497, in _handle_event\n",
      "    r = self._trigger_event(data[0], namespace, *data[1:])\n",
      "  File \"/home/babel/anaconda3/lib/python3.7/site-packages/socketio/client.py\", line 547, in _trigger_event\n",
      "    return self.handlers[namespace][event](*args)\n",
      "  File \"/home/babel/anaconda3/lib/python3.7/site-packages/fxcmpy/fxcmpy.py\", line 2555, in __on_price_update__\n",
      "    callbacks[func](data, self.prices[symbol])\n",
      "  File \"<ipython-input-57-9f2ea732995d>\", line 5, in output\n",
      "    pd.to_datetime(int(data['Updated'], units='ms'),\n",
      "TypeError: 'units' is an invalid keyword argument for int()\n",
      "\n",
      "Exception in thread Thread-260:\n",
      "Traceback (most recent call last):\n",
      "  File \"/home/babel/anaconda3/lib/python3.7/threading.py\", line 926, in _bootstrap_inner\n",
      "    self.run()\n",
      "  File \"/home/babel/anaconda3/lib/python3.7/threading.py\", line 870, in run\n",
      "    self._target(*self._args, **self._kwargs)\n",
      "  File \"/home/babel/anaconda3/lib/python3.7/site-packages/socketio/client.py\", line 613, in _handle_eio_message\n",
      "    self._handle_event(pkt.namespace, pkt.id, pkt.data)\n",
      "  File \"/home/babel/anaconda3/lib/python3.7/site-packages/socketio/client.py\", line 497, in _handle_event\n",
      "    r = self._trigger_event(data[0], namespace, *data[1:])\n",
      "  File \"/home/babel/anaconda3/lib/python3.7/site-packages/socketio/client.py\", line 547, in _trigger_event\n",
      "    return self.handlers[namespace][event](*args)\n",
      "  File \"/home/babel/anaconda3/lib/python3.7/site-packages/fxcmpy/fxcmpy.py\", line 2555, in __on_price_update__\n",
      "    callbacks[func](data, self.prices[symbol])\n",
      "  File \"<ipython-input-57-9f2ea732995d>\", line 5, in output\n",
      "    pd.to_datetime(int(data['Updated'], units='ms'),\n",
      "TypeError: 'units' is an invalid keyword argument for int()\n",
      "\n",
      "Exception in thread Thread-261:\n",
      "Traceback (most recent call last):\n",
      "  File \"/home/babel/anaconda3/lib/python3.7/threading.py\", line 926, in _bootstrap_inner\n",
      "    self.run()\n",
      "  File \"/home/babel/anaconda3/lib/python3.7/threading.py\", line 870, in run\n",
      "    self._target(*self._args, **self._kwargs)\n",
      "  File \"/home/babel/anaconda3/lib/python3.7/site-packages/socketio/client.py\", line 613, in _handle_eio_message\n",
      "    self._handle_event(pkt.namespace, pkt.id, pkt.data)\n",
      "  File \"/home/babel/anaconda3/lib/python3.7/site-packages/socketio/client.py\", line 497, in _handle_event\n",
      "    r = self._trigger_event(data[0], namespace, *data[1:])\n",
      "  File \"/home/babel/anaconda3/lib/python3.7/site-packages/socketio/client.py\", line 547, in _trigger_event\n",
      "    return self.handlers[namespace][event](*args)\n",
      "  File \"/home/babel/anaconda3/lib/python3.7/site-packages/fxcmpy/fxcmpy.py\", line 2555, in __on_price_update__\n",
      "    callbacks[func](data, self.prices[symbol])\n",
      "  File \"<ipython-input-57-9f2ea732995d>\", line 5, in output\n",
      "    pd.to_datetime(int(data['Updated'], units='ms'),\n",
      "TypeError: 'units' is an invalid keyword argument for int()\n",
      "\n",
      "Exception in thread Thread-262:\n",
      "Traceback (most recent call last):\n",
      "  File \"/home/babel/anaconda3/lib/python3.7/threading.py\", line 926, in _bootstrap_inner\n",
      "    self.run()\n",
      "  File \"/home/babel/anaconda3/lib/python3.7/threading.py\", line 870, in run\n",
      "    self._target(*self._args, **self._kwargs)\n",
      "  File \"/home/babel/anaconda3/lib/python3.7/site-packages/socketio/client.py\", line 613, in _handle_eio_message\n",
      "    self._handle_event(pkt.namespace, pkt.id, pkt.data)\n",
      "  File \"/home/babel/anaconda3/lib/python3.7/site-packages/socketio/client.py\", line 497, in _handle_event\n",
      "    r = self._trigger_event(data[0], namespace, *data[1:])\n",
      "  File \"/home/babel/anaconda3/lib/python3.7/site-packages/socketio/client.py\", line 547, in _trigger_event\n",
      "    return self.handlers[namespace][event](*args)\n",
      "  File \"/home/babel/anaconda3/lib/python3.7/site-packages/fxcmpy/fxcmpy.py\", line 2555, in __on_price_update__\n",
      "    callbacks[func](data, self.prices[symbol])\n",
      "  File \"<ipython-input-57-9f2ea732995d>\", line 5, in output\n",
      "    pd.to_datetime(int(data['Updated'], units='ms'),\n",
      "TypeError: 'units' is an invalid keyword argument for int()\n",
      "\n",
      "Exception in thread Thread-263:\n",
      "Traceback (most recent call last):\n",
      "  File \"/home/babel/anaconda3/lib/python3.7/threading.py\", line 926, in _bootstrap_inner\n",
      "    self.run()\n",
      "  File \"/home/babel/anaconda3/lib/python3.7/threading.py\", line 870, in run\n",
      "    self._target(*self._args, **self._kwargs)\n",
      "  File \"/home/babel/anaconda3/lib/python3.7/site-packages/socketio/client.py\", line 613, in _handle_eio_message\n",
      "    self._handle_event(pkt.namespace, pkt.id, pkt.data)\n",
      "  File \"/home/babel/anaconda3/lib/python3.7/site-packages/socketio/client.py\", line 497, in _handle_event\n",
      "    r = self._trigger_event(data[0], namespace, *data[1:])\n",
      "  File \"/home/babel/anaconda3/lib/python3.7/site-packages/socketio/client.py\", line 547, in _trigger_event\n",
      "    return self.handlers[namespace][event](*args)\n",
      "  File \"/home/babel/anaconda3/lib/python3.7/site-packages/fxcmpy/fxcmpy.py\", line 2555, in __on_price_update__\n",
      "    callbacks[func](data, self.prices[symbol])\n",
      "  File \"<ipython-input-57-9f2ea732995d>\", line 5, in output\n",
      "    pd.to_datetime(int(data['Updated'], units='ms'),\n",
      "TypeError: 'units' is an invalid keyword argument for int()\n",
      "\n",
      "Exception in thread Thread-264:\n",
      "Traceback (most recent call last):\n",
      "  File \"/home/babel/anaconda3/lib/python3.7/threading.py\", line 926, in _bootstrap_inner\n",
      "    self.run()\n",
      "  File \"/home/babel/anaconda3/lib/python3.7/threading.py\", line 870, in run\n",
      "    self._target(*self._args, **self._kwargs)\n",
      "  File \"/home/babel/anaconda3/lib/python3.7/site-packages/socketio/client.py\", line 613, in _handle_eio_message\n",
      "    self._handle_event(pkt.namespace, pkt.id, pkt.data)\n",
      "  File \"/home/babel/anaconda3/lib/python3.7/site-packages/socketio/client.py\", line 497, in _handle_event\n",
      "    r = self._trigger_event(data[0], namespace, *data[1:])\n",
      "  File \"/home/babel/anaconda3/lib/python3.7/site-packages/socketio/client.py\", line 547, in _trigger_event\n",
      "    return self.handlers[namespace][event](*args)\n",
      "  File \"/home/babel/anaconda3/lib/python3.7/site-packages/fxcmpy/fxcmpy.py\", line 2555, in __on_price_update__\n",
      "    callbacks[func](data, self.prices[symbol])\n",
      "  File \"<ipython-input-57-9f2ea732995d>\", line 5, in output\n",
      "    pd.to_datetime(int(data['Updated'], units='ms'),\n",
      "TypeError: 'units' is an invalid keyword argument for int()\n",
      "\n"
     ]
    },
    {
     "name": "stderr",
     "output_type": "stream",
     "text": [
      "Exception in thread Thread-265:\n",
      "Traceback (most recent call last):\n",
      "  File \"/home/babel/anaconda3/lib/python3.7/threading.py\", line 926, in _bootstrap_inner\n",
      "    self.run()\n",
      "  File \"/home/babel/anaconda3/lib/python3.7/threading.py\", line 870, in run\n",
      "    self._target(*self._args, **self._kwargs)\n",
      "  File \"/home/babel/anaconda3/lib/python3.7/site-packages/socketio/client.py\", line 613, in _handle_eio_message\n",
      "    self._handle_event(pkt.namespace, pkt.id, pkt.data)\n",
      "  File \"/home/babel/anaconda3/lib/python3.7/site-packages/socketio/client.py\", line 497, in _handle_event\n",
      "    r = self._trigger_event(data[0], namespace, *data[1:])\n",
      "  File \"/home/babel/anaconda3/lib/python3.7/site-packages/socketio/client.py\", line 547, in _trigger_event\n",
      "    return self.handlers[namespace][event](*args)\n",
      "  File \"/home/babel/anaconda3/lib/python3.7/site-packages/fxcmpy/fxcmpy.py\", line 2555, in __on_price_update__\n",
      "    callbacks[func](data, self.prices[symbol])\n",
      "  File \"<ipython-input-57-9f2ea732995d>\", line 5, in output\n",
      "    pd.to_datetime(int(data['Updated'], units='ms'),\n",
      "TypeError: 'units' is an invalid keyword argument for int()\n",
      "\n",
      "Exception in thread Thread-266:\n",
      "Traceback (most recent call last):\n",
      "  File \"/home/babel/anaconda3/lib/python3.7/threading.py\", line 926, in _bootstrap_inner\n",
      "    self.run()\n",
      "  File \"/home/babel/anaconda3/lib/python3.7/threading.py\", line 870, in run\n",
      "    self._target(*self._args, **self._kwargs)\n",
      "  File \"/home/babel/anaconda3/lib/python3.7/site-packages/socketio/client.py\", line 613, in _handle_eio_message\n",
      "    self._handle_event(pkt.namespace, pkt.id, pkt.data)\n",
      "  File \"/home/babel/anaconda3/lib/python3.7/site-packages/socketio/client.py\", line 497, in _handle_event\n",
      "    r = self._trigger_event(data[0], namespace, *data[1:])\n",
      "  File \"/home/babel/anaconda3/lib/python3.7/site-packages/socketio/client.py\", line 547, in _trigger_event\n",
      "    return self.handlers[namespace][event](*args)\n",
      "  File \"/home/babel/anaconda3/lib/python3.7/site-packages/fxcmpy/fxcmpy.py\", line 2555, in __on_price_update__\n",
      "    callbacks[func](data, self.prices[symbol])\n",
      "  File \"<ipython-input-57-9f2ea732995d>\", line 5, in output\n",
      "    pd.to_datetime(int(data['Updated'], units='ms'),\n",
      "TypeError: 'units' is an invalid keyword argument for int()\n",
      "\n",
      "Exception in thread Thread-267:\n",
      "Traceback (most recent call last):\n",
      "  File \"/home/babel/anaconda3/lib/python3.7/threading.py\", line 926, in _bootstrap_inner\n",
      "    self.run()\n",
      "  File \"/home/babel/anaconda3/lib/python3.7/threading.py\", line 870, in run\n",
      "    self._target(*self._args, **self._kwargs)\n",
      "  File \"/home/babel/anaconda3/lib/python3.7/site-packages/socketio/client.py\", line 613, in _handle_eio_message\n",
      "    self._handle_event(pkt.namespace, pkt.id, pkt.data)\n",
      "  File \"/home/babel/anaconda3/lib/python3.7/site-packages/socketio/client.py\", line 497, in _handle_event\n",
      "    r = self._trigger_event(data[0], namespace, *data[1:])\n",
      "  File \"/home/babel/anaconda3/lib/python3.7/site-packages/socketio/client.py\", line 547, in _trigger_event\n",
      "    return self.handlers[namespace][event](*args)\n",
      "  File \"/home/babel/anaconda3/lib/python3.7/site-packages/fxcmpy/fxcmpy.py\", line 2555, in __on_price_update__\n",
      "    callbacks[func](data, self.prices[symbol])\n",
      "  File \"<ipython-input-57-9f2ea732995d>\", line 5, in output\n",
      "    pd.to_datetime(int(data['Updated'], units='ms'),\n",
      "TypeError: 'units' is an invalid keyword argument for int()\n",
      "\n",
      "Exception in thread Thread-268:\n",
      "Traceback (most recent call last):\n",
      "  File \"/home/babel/anaconda3/lib/python3.7/threading.py\", line 926, in _bootstrap_inner\n",
      "    self.run()\n",
      "  File \"/home/babel/anaconda3/lib/python3.7/threading.py\", line 870, in run\n",
      "    self._target(*self._args, **self._kwargs)\n",
      "  File \"/home/babel/anaconda3/lib/python3.7/site-packages/socketio/client.py\", line 613, in _handle_eio_message\n",
      "    self._handle_event(pkt.namespace, pkt.id, pkt.data)\n",
      "  File \"/home/babel/anaconda3/lib/python3.7/site-packages/socketio/client.py\", line 497, in _handle_event\n",
      "    r = self._trigger_event(data[0], namespace, *data[1:])\n",
      "  File \"/home/babel/anaconda3/lib/python3.7/site-packages/socketio/client.py\", line 547, in _trigger_event\n",
      "    return self.handlers[namespace][event](*args)\n",
      "  File \"/home/babel/anaconda3/lib/python3.7/site-packages/fxcmpy/fxcmpy.py\", line 2555, in __on_price_update__\n",
      "    callbacks[func](data, self.prices[symbol])\n",
      "  File \"<ipython-input-57-9f2ea732995d>\", line 5, in output\n",
      "    pd.to_datetime(int(data['Updated'], units='ms'),\n",
      "TypeError: 'units' is an invalid keyword argument for int()\n",
      "\n",
      "Exception in thread Thread-269:\n",
      "Traceback (most recent call last):\n",
      "  File \"/home/babel/anaconda3/lib/python3.7/threading.py\", line 926, in _bootstrap_inner\n",
      "    self.run()\n",
      "  File \"/home/babel/anaconda3/lib/python3.7/threading.py\", line 870, in run\n",
      "    self._target(*self._args, **self._kwargs)\n",
      "  File \"/home/babel/anaconda3/lib/python3.7/site-packages/socketio/client.py\", line 613, in _handle_eio_message\n",
      "    self._handle_event(pkt.namespace, pkt.id, pkt.data)\n",
      "  File \"/home/babel/anaconda3/lib/python3.7/site-packages/socketio/client.py\", line 497, in _handle_event\n",
      "    r = self._trigger_event(data[0], namespace, *data[1:])\n",
      "  File \"/home/babel/anaconda3/lib/python3.7/site-packages/socketio/client.py\", line 547, in _trigger_event\n",
      "    return self.handlers[namespace][event](*args)\n",
      "  File \"/home/babel/anaconda3/lib/python3.7/site-packages/fxcmpy/fxcmpy.py\", line 2555, in __on_price_update__\n",
      "    callbacks[func](data, self.prices[symbol])\n",
      "  File \"<ipython-input-57-9f2ea732995d>\", line 5, in output\n",
      "    pd.to_datetime(int(data['Updated'], units='ms'),\n",
      "TypeError: 'units' is an invalid keyword argument for int()\n",
      "\n",
      "Exception in thread Thread-270:\n",
      "Traceback (most recent call last):\n",
      "  File \"/home/babel/anaconda3/lib/python3.7/threading.py\", line 926, in _bootstrap_inner\n",
      "    self.run()\n",
      "  File \"/home/babel/anaconda3/lib/python3.7/threading.py\", line 870, in run\n",
      "    self._target(*self._args, **self._kwargs)\n",
      "  File \"/home/babel/anaconda3/lib/python3.7/site-packages/socketio/client.py\", line 613, in _handle_eio_message\n",
      "    self._handle_event(pkt.namespace, pkt.id, pkt.data)\n",
      "  File \"/home/babel/anaconda3/lib/python3.7/site-packages/socketio/client.py\", line 497, in _handle_event\n",
      "    r = self._trigger_event(data[0], namespace, *data[1:])\n",
      "  File \"/home/babel/anaconda3/lib/python3.7/site-packages/socketio/client.py\", line 547, in _trigger_event\n",
      "    return self.handlers[namespace][event](*args)\n",
      "  File \"/home/babel/anaconda3/lib/python3.7/site-packages/fxcmpy/fxcmpy.py\", line 2555, in __on_price_update__\n",
      "    callbacks[func](data, self.prices[symbol])\n",
      "  File \"<ipython-input-57-9f2ea732995d>\", line 5, in output\n",
      "    pd.to_datetime(int(data['Updated'], units='ms'),\n",
      "TypeError: 'units' is an invalid keyword argument for int()\n",
      "\n",
      "Exception in thread Thread-271:\n",
      "Traceback (most recent call last):\n",
      "  File \"/home/babel/anaconda3/lib/python3.7/threading.py\", line 926, in _bootstrap_inner\n",
      "    self.run()\n",
      "  File \"/home/babel/anaconda3/lib/python3.7/threading.py\", line 870, in run\n",
      "    self._target(*self._args, **self._kwargs)\n",
      "  File \"/home/babel/anaconda3/lib/python3.7/site-packages/socketio/client.py\", line 613, in _handle_eio_message\n",
      "    self._handle_event(pkt.namespace, pkt.id, pkt.data)\n",
      "  File \"/home/babel/anaconda3/lib/python3.7/site-packages/socketio/client.py\", line 497, in _handle_event\n",
      "    r = self._trigger_event(data[0], namespace, *data[1:])\n",
      "  File \"/home/babel/anaconda3/lib/python3.7/site-packages/socketio/client.py\", line 547, in _trigger_event\n",
      "    return self.handlers[namespace][event](*args)\n",
      "  File \"/home/babel/anaconda3/lib/python3.7/site-packages/fxcmpy/fxcmpy.py\", line 2555, in __on_price_update__\n",
      "    callbacks[func](data, self.prices[symbol])\n",
      "  File \"<ipython-input-57-9f2ea732995d>\", line 5, in output\n",
      "    pd.to_datetime(int(data['Updated'], units='ms'),\n",
      "TypeError: 'units' is an invalid keyword argument for int()\n",
      "\n",
      "Exception in thread Thread-272:\n",
      "Traceback (most recent call last):\n",
      "  File \"/home/babel/anaconda3/lib/python3.7/threading.py\", line 926, in _bootstrap_inner\n",
      "    self.run()\n",
      "  File \"/home/babel/anaconda3/lib/python3.7/threading.py\", line 870, in run\n",
      "    self._target(*self._args, **self._kwargs)\n",
      "  File \"/home/babel/anaconda3/lib/python3.7/site-packages/socketio/client.py\", line 613, in _handle_eio_message\n",
      "    self._handle_event(pkt.namespace, pkt.id, pkt.data)\n",
      "  File \"/home/babel/anaconda3/lib/python3.7/site-packages/socketio/client.py\", line 497, in _handle_event\n",
      "    r = self._trigger_event(data[0], namespace, *data[1:])\n",
      "  File \"/home/babel/anaconda3/lib/python3.7/site-packages/socketio/client.py\", line 547, in _trigger_event\n",
      "    return self.handlers[namespace][event](*args)\n",
      "  File \"/home/babel/anaconda3/lib/python3.7/site-packages/fxcmpy/fxcmpy.py\", line 2555, in __on_price_update__\n",
      "    callbacks[func](data, self.prices[symbol])\n",
      "  File \"<ipython-input-57-9f2ea732995d>\", line 5, in output\n",
      "    pd.to_datetime(int(data['Updated'], units='ms'),\n",
      "TypeError: 'units' is an invalid keyword argument for int()\n",
      "\n"
     ]
    }
   ],
   "source": [
    "#1\n",
    "def output(data, dataframe):\n",
    "    print('%3d | %s | %s | %6.5f, %6.5f' \n",
    "          % (len(dataframe), data['Symbol'],\n",
    "             pd.to_datetime(int(data['Updated']), unit='ms'), \n",
    "             data['Rates'][0], data['Rates'][1]))"
   ]
  },
  {
   "cell_type": "code",
   "execution_count": null,
   "metadata": {},
   "outputs": [],
   "source": [
    "#2\n",
    "api.subscribe_market_data('EUR/USD', (output,))"
   ]
  }
 ],
 "metadata": {
  "kernelspec": {
   "display_name": "Python 3",
   "language": "python",
   "name": "python3"
  },
  "language_info": {
   "codemirror_mode": {
    "name": "ipython",
    "version": 3
   },
   "file_extension": ".py",
   "mimetype": "text/x-python",
   "name": "python",
   "nbconvert_exporter": "python",
   "pygments_lexer": "ipython3",
   "version": "3.7.4"
  }
 },
 "nbformat": 4,
 "nbformat_minor": 2
}
